{
 "cells": [
  {
   "cell_type": "markdown",
   "id": "656dbe0e-d193-401a-8948-a5109e78f188",
   "metadata": {},
   "source": [
    "Data cleansing - need to add set.seed(1234), visualisations need explanations"
   ]
  },
  {
   "cell_type": "code",
   "execution_count": null,
   "id": "4547f593-97e3-4e9b-b744-8d4dffac0b8d",
   "metadata": {},
   "outputs": [],
   "source": [
    "import pandas as pd\n",
    "import altair as alt\n",
    "from sklearn.model_selection import train_test_split\n",
    "alt.data_transformers.disable_max_rows()"
   ]
  },
  {
   "cell_type": "code",
   "execution_count": null,
   "id": "a987af75-034b-4f74-8162-c1bf84d45cd9",
   "metadata": {},
   "outputs": [],
   "source": [
    "# reading in data\n",
    "url = \"https://raw.githubusercontent.com/margshen/dsci_group_16/5b515efa41fcc3085d53cb27fa09d25698036ca0/data/stroke_data.csv\"\n",
    "stroke_data = pd.read_csv(url)\n",
    "\n",
    "stroke_data"
   ]
  },
  {
   "cell_type": "code",
   "execution_count": null,
   "id": "0be5e458-34d8-4381-af10-72f2edb404b9",
   "metadata": {},
   "outputs": [],
   "source": [
    "# wrangling stroke column\n",
    "stroke_data[\"stroke\"] = stroke_data[\"stroke\"].replace({1: \"yes\", 0: \"no\"})\n",
    "stroke_data"
   ]
  },
  {
   "cell_type": "code",
   "execution_count": null,
   "id": "602caef2-6175-44b2-996d-812ef0202916",
   "metadata": {},
   "outputs": [],
   "source": [
    "# splitting data\n",
    "stroke_training, stroke_testing = train_test_split(\n",
    "    stroke_data,\n",
    "    test_size = 0.25,\n",
    "    random_state = 1\n",
    ")"
   ]
  },
  {
   "cell_type": "code",
   "execution_count": null,
   "id": "51f01479-0415-4e9e-9ae8-7bdd80d0bc55",
   "metadata": {},
   "outputs": [],
   "source": [
    "# number of class observations in stroke class\n",
    "stroke_count = stroke_training[\"stroke\"].value_counts()\n",
    "\n",
    "print(stroke_count)"
   ]
  },
  {
   "cell_type": "code",
   "execution_count": null,
   "id": "9f1852cb-dab3-43db-9740-92f15daa7bce",
   "metadata": {},
   "outputs": [],
   "source": [
    "# rows with missing data\n",
    "rows_with_missing_data = stroke_training.isna().sum()\n",
    "\n",
    "print(rows_with_missing_data)"
   ]
  },
  {
   "cell_type": "code",
   "execution_count": null,
   "id": "3ea81a62-4ce7-44d1-a28a-3c651cfdce74",
   "metadata": {},
   "outputs": [],
   "source": [
    "# means of potential predictor values\n",
    "mean_value_of_columns = stroke_training[[\"age\", \"avg_glucose_level\", \"bmi\"]].mean()\n",
    "mean_value_of_columns"
   ]
  },
  {
   "cell_type": "code",
   "execution_count": null,
   "id": "e8eae807-3da7-447f-a914-4335aeebc77b",
   "metadata": {},
   "outputs": [],
   "source": [
    "plot = alt.Chart(stroke_training).mark_circle(opacity = 0.4).encode(\n",
    "    x = alt.X(\"age\", title = \"Age\"),\n",
    "    y = alt.Y(\"avg_glucose_level\", title = \"Average Glucose Level\"),\n",
    "    color = alt.Color(\"stroke\", title = \"Stroke Classification\")\n",
    ")\n",
    "\n",
    "plot"
   ]
  }
 ],
 "metadata": {
  "kernelspec": {
   "display_name": "Python 3 (ipykernel)",
   "language": "python",
   "name": "python3"
  },
  "language_info": {
   "codemirror_mode": {
    "name": "ipython",
    "version": 3
   },
   "file_extension": ".py",
   "mimetype": "text/x-python",
   "name": "python",
   "nbconvert_exporter": "python",
   "pygments_lexer": "ipython3",
   "version": "3.10.8"
  }
 },
 "nbformat": 4,
 "nbformat_minor": 5
}
